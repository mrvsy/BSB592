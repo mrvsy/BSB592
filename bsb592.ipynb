{
 "cells": [
  {
   "cell_type": "code",
   "execution_count": 2,
   "metadata": {},
   "outputs": [
    {
     "name": "stdout",
     "output_type": "stream",
     "text": [
      "b'case_id\\tdisease_type\\tid\\tprimary_site\\tsubmitter_id\\r\\n690378f3-e38a-4b25-8489-05a3b4bd40b6\\tAdenomas and Adenocarcinomas\\t690378f3-e38a-4b25-8489-05a3b4bd40b6\\tKidney\\tC3N-01175\\r\\n21b33512-73c8-4d7f-a6ce-a07133b9c1ed\\tAdenomas and Adenocarcinomas\\t21b33512-73c8-4d7f-a6ce-a07133b9c1ed\\tKidney\\tC3L-00010\\r\\n7e18715d-3d61-431b-94f5-4d20bbaa4fa1\\tAdenomas and Adenocarcinomas\\t7e18715d-3d61-431b-94f5-4d20bbaa4fa1\\tKidney\\tC3N-00313\\r\\n30bf3778-fb08-4568-b6d2-dbcb5d2b1ee6\\tAdenomas and Adenocarcinomas\\t30bf3778-fb08-4568-b6d2-dbcb5d2b1ee6\\tKidney\\tC3L-00917\\r\\n239a5fbb-0145-46f6-8ec3-2a96a04011dd\\tAdenomas and Adenocarcinomas\\t239a5fbb-0145-46f6-8ec3-2a96a04011dd\\tKidney\\tC3N-00494\\r\\n5690ba19-ef88-4bce-b275-27f715cc44d4\\tAdenomas and Adenocarcinomas\\t5690ba19-ef88-4bce-b275-27f715cc44d4\\tKidney\\tC3L-01861\\r\\n36361a20-f41c-4a56-aba6-1060d2ae0182\\tAdenomas and Adenocarcinomas\\t36361a20-f41c-4a56-aba6-1060d2ae0182\\tKidney\\tC3L-01836\\r\\n4ae395b9-0a62-40dc-b476-ad60aa70991a\\tAdenomas and Adenocarcinomas\\t4ae395b9-0a62-40dc-b476-ad60aa70991a\\tKidney\\tC3L-01885\\r\\n66a96642-003e-4c56-9a48-adc3ea90292d\\tAdenomas and Adenocarcinomas\\t66a96642-003e-4c56-9a48-adc3ea90292d\\tKidney\\tC3L-00448\\r\\nc6c75c5d-b3c9-4918-8dc2-02849933cd3c\\tAdenomas and Adenocarcinomas\\tc6c75c5d-b3c9-4918-8dc2-02849933cd3c\\tKidney\\tC3N-01220\\r\\nad9a7ce1-9f9e-4092-8eae-493297289022\\tAdenomas and Adenocarcinomas\\tad9a7ce1-9f9e-4092-8eae-493297289022\\tKidney\\tC3L-00791\\r\\na7b5ecd7-d16b-4c41-87d7-881c3d53d185\\tAdenomas and Adenocarcinomas\\ta7b5ecd7-d16b-4c41-87d7-881c3d53d185\\tKidney\\tC3N-00390\\r\\n8a2a211f-4ef7-4aa8-bef3-ba3c2803661d\\tAdenomas and Adenocarcinomas\\t8a2a211f-4ef7-4aa8-bef3-ba3c2803661d\\tKidney\\tC3L-01286\\r\\n872dc350-1ca9-4910-a76e-e244d9636f46\\tAdenomas and Adenocarcinomas\\t872dc350-1ca9-4910-a76e-e244d9636f46\\tKidney\\tC3L-00610\\r\\n36ae1bce-49a9-4818-8529-94ae62a1b0c2\\tAdenomas and Adenocarcinomas\\t36ae1bce-49a9-4818-8529-94ae62a1b0c2\\tKidney\\tC3N-01808\\r\\n629dc6f4-9e1c-4265-9fd6-838ca8222792\\tAdenomas and Adenocarcinomas\\t629dc6f4-9e1c-4265-9fd6-838ca8222792\\tKidney\\tC3N-01176\\r\\n947a6de8-a1fe-41f3-9568-2311f9fa341b\\tAdenomas and Adenocarcinomas\\t947a6de8-a1fe-41f3-9568-2311f9fa341b\\tKidney\\tC3N-01651\\r\\nd4224b25-86fd-4f09-ad0c-f6bdf1e0018a\\tAdenomas and Adenocarcinomas\\td4224b25-86fd-4f09-ad0c-f6bdf1e0018a\\tKidney\\tC3N-00495\\r\\n5cb7b327-5f17-44a8-aed3-989a1a99e780\\tAdenomas and Adenocarcinomas\\t5cb7b327-5f17-44a8-aed3-989a1a99e780\\tKidney\\tC3N-00149\\r\\n79a06ec2-2593-4576-9f65-f4aaa60180ea\\tAdenomas and Adenocarcinomas\\t79a06ec2-2593-4576-9f65-f4aaa60180ea\\tKidney\\tC3N-00246\\r\\n1eaa044d-6d5c-462d-90f4-60b5280c5c7a\\tAdenomas and Adenocarcinomas\\t1eaa044d-6d5c-462d-90f4-60b5280c5c7a\\tKidney\\tC3N-00154\\r\\n68daae26-f752-43de-bf53-a0737e50d00e\\tAdenomas and Adenocarcinomas\\t68daae26-f752-43de-bf53-a0737e50d00e\\tKidney\\tC3N-00646\\r\\n1afc3a78-4e91-485c-93e1-43f17738f530\\tAdenomas and Adenocarcinomas\\t1afc3a78-4e91-485c-93e1-43f17738f530\\tKidney\\tC3L-00418\\r\\n54803fe4-6b87-4a4d-bb22-de20342e8929\\tAdenomas and Adenocarcinomas\\t54803fe4-6b87-4a4d-bb22-de20342e8929\\tKidney\\tC3L-00799\\r\\nf53d22a7-314a-48c0-b8b1-9799149ccc1e\\tAdenomas and Adenocarcinomas\\tf53d22a7-314a-48c0-b8b1-9799149ccc1e\\tKidney\\tC3L-00103\\r\\n0d81506b-7823-4ef2-8c94-d8fa624a51a1\\tAdenomas and Adenocarcinomas\\t0d81506b-7823-4ef2-8c94-d8fa624a51a1\\tKidney\\tC3N-00317\\r\\n77817c88-77e1-4ff0-a24e-21ca2942ba3a\\tAdenomas and Adenocarcinomas\\t77817c88-77e1-4ff0-a24e-21ca2942ba3a\\tKidney\\tC3N-00315\\r\\n929e18d5-41fa-4ee2-957f-2812e4501b93\\tAdenomas and Adenocarcinomas\\t929e18d5-41fa-4ee2-957f-2812e4501b93\\tKidney\\tC3L-00079\\r\\nbf2c7bd9-65d7-41af-84b5-41ffe6693547\\tAdenomas and Adenocarcinomas\\tbf2c7bd9-65d7-41af-84b5-41ffe6693547\\tKidney\\tC3L-00561\\r\\na0d5a7b2-4c7f-4d19-bda1-1357d3b1d72b\\tAdenomas and Adenocarcinomas\\ta0d5a7b2-4c7f-4d19-bda1-1357d3b1d72b\\tKidney\\tC3N-00573\\r\\nb13abb7a-7188-4e06-8b8b-381dfd63e03c\\tAdenomas and Adenocarcinomas\\tb13abb7a-7188-4e06-8b8b-381dfd63e03c\\tKidney\\tC3L-01281\\r\\n920b70b3-265f-4c67-afe5-079b073cab03\\tAdenomas and Adenocarcinomas\\t920b70b3-265f-4c67-afe5-079b073cab03\\tKidney\\tC3N-00492\\r\\n2d1ffb7e-8600-4d11-8a65-f27558c3ecfb\\tAdenomas and Adenocarcinomas\\t2d1ffb7e-8600-4d11-8a65-f27558c3ecfb\\tKidney\\tC3N-00168\\r\\nad688008-ae8d-4bfd-99ab-24998a2c248c\\tAdenomas and Adenocarcinomas\\tad688008-ae8d-4bfd-99ab-24998a2c248c\\tKidney\\tC3L-00817\\r\\nc43e357e-8156-4999-8972-d6c007a88033\\tAdenomas and Adenocarcinomas\\tc43e357e-8156-4999-8972-d6c007a88033\\tKidney\\tC3N-00242\\r\\nda4a0eed-b755-49b8-96ae-31d3d396862c\\tAdenomas and Adenocarcinomas\\tda4a0eed-b755-49b8-96ae-31d3d396862c\\tKidney\\tC3L-00583\\r\\n8577ef8a-f071-49cc-8158-05dfc52f3c70\\tAdenomas and Adenocarcinomas\\t8577ef8a-f071-49cc-8158-05dfc52f3c70\\tKidney\\tC3N-00832\\r\\ne897318d-6d4d-4bcb-8a47-332a2070aab7\\tAdenomas and Adenocarcinomas\\te897318d-6d4d-4bcb-8a47-332a2070aab7\\tKidney\\tC3N-00305\\r\\ne8bc3792-92f6-4924-8047-9f805afb4b04\\tAdenomas and Adenocarcinomas\\te8bc3792-92f6-4924-8047-9f805afb4b04\\tKidney\\tC3L-00814\\r\\n36ce8a6b-42e9-4a12-8c7a-16124104224b\\tAdenomas and Adenocarcinomas\\t36ce8a6b-42e9-4a12-8c7a-16124104224b\\tKidney\\tC3N-00437\\r\\n000ead0d-abf5-4606-be04-1ea31b999840\\tAdenomas and Adenocarcinomas\\t000ead0d-abf5-4606-be04-1ea31b999840\\tKidney\\tC3N-01179\\r\\n8be8aafe-ccd7-437f-aa68-09c4bc248d1d\\tAdenomas and Adenocarcinomas\\t8be8aafe-ccd7-437f-aa68-09c4bc248d1d\\tKidney\\tC3N-01522\\r\\nb1114673-0f13-4265-98d8-21c5714d91a4\\tAdenomas and Adenocarcinomas\\tb1114673-0f13-4265-98d8-21c5714d91a4\\tKidney\\tC3L-00360\\r\\n022c3490-811c-4f82-ad9b-8004a3df7e5c\\tAdenomas and Adenocarcinomas\\t022c3490-811c-4f82-ad9b-8004a3df7e5c\\tKidney\\tC3L-00792\\r\\nceae0345-0b5a-475f-8133-5fffcb81f3d0\\tAdenomas and Adenocarcinomas\\tceae0345-0b5a-475f-8133-5fffcb81f3d0\\tKidney\\tC3N-00320\\r\\nd2ba6170-58a2-424f-974d-403af8f2f6e5\\tAdenomas and Adenocarcinomas\\td2ba6170-58a2-424f-974d-403af8f2f6e5\\tKidney\\tC3N-01261\\r\\ne35a48a7-4773-459c-b90c-8a79a0716184\\tAdenomas and Adenocarcinomas\\te35a48a7-4773-459c-b90c-8a79a0716184\\tKidney\\tC3L-01352\\r\\n23f9ba79-3234-4025-92a8-5dcd28971593\\tAdenomas and Adenocarcinomas\\t23f9ba79-3234-4025-92a8-5dcd28971593\\tKidney\\tC3N-00435\\r\\n88e0ed05-4414-44f2-a983-93f7f6c2dc8c\\tAdenomas and Adenocarcinomas\\t88e0ed05-4414-44f2-a983-93f7f6c2dc8c\\tKidney\\tC3N-00491\\r\\nf7d27f30-33bc-4261-9192-9e6c31416859\\tAdenomas and Adenocarcinomas\\tf7d27f30-33bc-4261-9192-9e6c31416859\\tKidney\\tC3L-00790\\r\\n24c1cf70-bd67-431e-a623-d20f8d3f52b2\\tAdenomas and Adenocarcinomas\\t24c1cf70-bd67-431e-a623-d20f8d3f52b2\\tKidney\\tTCGA-CJ-4881\\r\\n12adefc4-c9fd-46d3-904b-8fc52d5f1913\\tAdenomas and Adenocarcinomas\\t12adefc4-c9fd-46d3-904b-8fc52d5f1913\\tKidney\\tTCGA-B0-4696\\r\\nda0289c6-ff84-4063-ba99-a0d0a338f6cd\\tAdenomas and Adenocarcinomas\\tda0289c6-ff84-4063-ba99-a0d0a338f6cd\\tKidney\\tTCGA-2Z-A9J5\\r\\na800431b-b3e9-43c1-a500-73199f490fd2\\tAdenomas and Adenocarcinomas\\ta800431b-b3e9-43c1-a500-73199f490fd2\\tKidney\\tAD5177\\r\\na3b86ad7-9a38-466b-ae14-6ed8d595de84\\tAdenomas and Adenocarcinomas\\ta3b86ad7-9a38-466b-ae14-6ed8d595de84\\tKidney\\tAD5715\\r\\n33700fa0-c6f8-446d-a641-c6f450ebd378\\tTransitional Cell Papillomas and Carcinomas\\t33700fa0-c6f8-446d-a641-c6f450ebd378\\tKidney\\tAD2514\\r\\n617de37f-b211-4b24-af21-29e805afa1a3\\tAdenomas and Adenocarcinomas\\t617de37f-b211-4b24-af21-29e805afa1a3\\tKidney\\tAD1233\\r\\n58858fd8-7092-491b-b324-a7ce3b0bc2f1\\tAdenomas and Adenocarcinomas\\t58858fd8-7092-491b-b324-a7ce3b0bc2f1\\tKidney\\tC3N-00831\\r\\n6ca8c6e0-50f3-4008-a9c0-cbfe4e984690\\tAdenomas and Adenocarcinomas\\t6ca8c6e0-50f3-4008-a9c0-cbfe4e984690\\tKidney\\tC3N-01213\\r\\n761cab85-b6f0-474c-b6ee-ddcd6e36a425\\tAdenomas and Adenocarcinomas\\t761cab85-b6f0-474c-b6ee-ddcd6e36a425\\tKidney\\tC3L-00765\\r\\n1570eaf1-9b92-4506-9df0-9ae9a704a731\\tAdenomas and Adenocarcinomas\\t1570eaf1-9b92-4506-9df0-9ae9a704a731\\tKidney\\tC3N-00953\\r\\n25863969-852d-408e-bd62-98e0df9e4b3a\\tAdenomas and Adenocarcinomas\\t25863969-852d-408e-bd62-98e0df9e4b3a\\tKidney\\tC3N-00733\\r\\n12246e82-cb5f-4b7e-a6bd-a120e000db49\\tAdenomas and Adenocarcinomas\\t12246e82-cb5f-4b7e-a6bd-a120e000db49\\tKidney\\tC3L-00606\\r\\n61d83f5b-b534-44b0-9d0b-668c4e0a08ef\\tAdenomas and Adenocarcinomas\\t61d83f5b-b534-44b0-9d0b-668c4e0a08ef\\tKidney\\tC3N-00852\\r\\n57b28192-8454-4ec2-914e-9228456d8648\\tAdenomas and Adenocarcinomas\\t57b28192-8454-4ec2-914e-9228456d8648\\tKidney\\tC3N-00380\\r\\n262b9dfc-3d6e-4e7d-9469-b9bae4f82393\\tAdenomas and Adenocarcinomas\\t262b9dfc-3d6e-4e7d-9469-b9bae4f82393\\tKidney\\tC3N-00577\\r\\n2cb6ca17-edc8-4b84-896b-dc8a3aca5e25\\tAdenomas and Adenocarcinomas\\t2cb6ca17-edc8-4b84-896b-dc8a3aca5e25\\tKidney\\tC3N-01361\\r\\n6ff701cd-7efc-4bac-93a6-7b27d2974d89\\tAdenomas and Adenocarcinomas\\t6ff701cd-7efc-4bac-93a6-7b27d2974d89\\tKidney\\tC3N-00150\\r\\n800efda7-bc75-47ed-bfc6-479f5aaa1d68\\tAdenomas and Adenocarcinomas\\t800efda7-bc75-47ed-bfc6-479f5aaa1d68\\tKidney\\tC3L-01560\\r\\n0625c920-3378-4eee-b53f-650e4192d29b\\tAdenomas and Adenocarcinomas\\t0625c920-3378-4eee-b53f-650e4192d29b\\tKidney\\tC3N-00148\\r\\n52153098-f1b2-47fe-ba4e-88ce6d51a6ca\\tAdenomas and Adenocarcinomas\\t52153098-f1b2-47fe-ba4e-88ce6d51a6ca\\tKidney\\tC3L-00004\\r\\n6e8374c8-7868-4eb0-9408-c99665cb3f5c\\tAdenomas and Adenocarcinomas\\t6e8374c8-7868-4eb0-9408-c99665cb3f5c\\tKidney\\tC3L-01882\\r\\n1256a2fe-44c4-4019-a5bc-d188e3c76079\\tAdenomas and Adenocarcinomas\\t1256a2fe-44c4-4019-a5bc-d188e3c76079\\tKidney\\tC3L-00800\\r\\n8220be9e-ca4d-4a48-b48a-06c0b223700e\\tAdenomas and Adenocarcinomas\\t8220be9e-ca4d-4a48-b48a-06c0b223700e\\tKidney\\tC3L-00447\\r\\n17e6c62f-cc0c-4e13-a80c-f9bd6c2cfb0d\\tAdenomas and Adenocarcinomas\\t17e6c62f-cc0c-4e13-a80c-f9bd6c2cfb0d\\tKidney\\tC3L-00907\\r\\ne8b0327e-7721-4310-9382-1c57c62c8b73\\tAdenomas and Adenocarcinomas\\te8b0327e-7721-4310-9382-1c57c62c8b73\\tKidney\\tC3L-01302\\r\\n55b8785a-3771-459e-bc48-170cec9cd105\\tAdenomas and Adenocarcinomas\\t55b8785a-3771-459e-bc48-170cec9cd105\\tKidney\\tC3N-01180\\r\\n5a88652c-cc2f-44c8-9e61-e89d46222743\\tAdenomas and Adenocarcinomas\\t5a88652c-cc2f-44c8-9e61-e89d46222743\\tKidney\\tC3N-00312\\r\\n9619589a-2dd4-4678-bf42-5e79f6bebd77\\tAdenomas and Adenocarcinomas\\t9619589a-2dd4-4678-bf42-5e79f6bebd77\\tKidney\\tC3L-00088\\r\\nb2c111c5-13ad-4144-a799-7d4b188c14d9\\tAdenomas and Adenocarcinomas\\tb2c111c5-13ad-4144-a799-7d4b188c14d9\\tKidney\\tC3L-00607\\r\\n75196629-c99b-475e-ac48-da4385b66b2f\\tAdenomas and Adenocarcinomas\\t75196629-c99b-475e-ac48-da4385b66b2f\\tKidney\\tC3L-00796\\r\\n221170d3-5b24-46ea-b9a7-38e0991b29a7\\tAdenomas and Adenocarcinomas\\t221170d3-5b24-46ea-b9a7-38e0991b29a7\\tKidney\\tC3L-00812\\r\\n5ecaec09-4b90-4b14-beeb-1d419d299a83\\tAdenomas and Adenocarcinomas\\t5ecaec09-4b90-4b14-beeb-1d419d299a83\\tKidney\\tC3N-01178\\r\\n3fe419a9-e0a7-49b5-bdf5-caa2a06aa82b\\tAdenomas and Adenocarcinomas\\t3fe419a9-e0a7-49b5-bdf5-caa2a06aa82b\\tKidney\\tC3N-00314\\r\\n3348ec86-9b46-4f5b-85ad-1a126385b695\\tAdenomas and Adenocarcinomas\\t3348ec86-9b46-4f5b-85ad-1a126385b695\\tKidney\\tC3L-01283\\r\\na587c48a-28fb-43b2-8b6c-90218f864f26\\tAdenomas and Adenocarcinomas\\ta587c48a-28fb-43b2-8b6c-90218f864f26\\tKidney\\tC3L-00183\\r\\n2f9e1f15-769a-43e3-a68d-dde243883422\\tAdenomas and Adenocarcinomas\\t2f9e1f15-769a-43e3-a68d-dde243883422\\tKidney\\tC3L-01603\\r\\n763e0702-8379-4b5e-95d1-a84f412c51e7\\tAdenomas and Adenocarcinomas\\t763e0702-8379-4b5e-95d1-a84f412c51e7\\tKidney\\tC3L-00908\\r\\n275b8372-f1bb-4291-8778-506d4b93c55c\\tAdenomas and Adenocarcinomas\\t275b8372-f1bb-4291-8778-506d4b93c55c\\tKidney\\tC3L-00097\\r\\ndcad7486-2ab4-4f96-9be2-3b6af807fde0\\tAdenomas and Adenocarcinomas\\tdcad7486-2ab4-4f96-9be2-3b6af807fde0\\tKidney\\tC3N-01646\\r\\naec84142-419a-45c2-8aff-dfeec5065447\\tAdenomas and Adenocarcinomas\\taec84142-419a-45c2-8aff-dfeec5065447\\tKidney\\tC3L-00813\\r\\nfba6ddb5-f291-409c-9389-82e4637d62c0\\tAdenomas and Adenocarcinomas\\tfba6ddb5-f291-409c-9389-82e4637d62c0\\tKidney\\tC3L-00416\\r\\nc954ffd0-f64f-4cee-a802-48e0960f7910\\tAdenomas and Adenocarcinomas\\tc954ffd0-f64f-4cee-a802-48e0960f7910\\tKidney\\tC3L-01557\\r\\n538424a8-0d56-4d6f-806a-19a0630c9d83\\tAdenomas and Adenocarcinomas\\t538424a8-0d56-4d6f-806a-19a0630c9d83\\tKidney\\tC3L-01287\\r\\nd52a195d-7d63-4eb6-81c2-3c473ba57979\\tAdenomas and Adenocarcinomas\\td52a195d-7d63-4eb6-81c2-3c473ba57979\\tKidney\\tC3L-00096\\r\\ne80deff0-6d18-4093-8d6d-ee481e4d06ac\\tAdenomas and Adenocarcinomas\\te80deff0-6d18-4093-8d6d-ee481e4d06ac\\tKidney\\tC3L-01313\\r\\n9ff6d022-6e23-4f44-a480-1b61929e6ee3\\tAdenomas and Adenocarcinomas\\t9ff6d022-6e23-4f44-a480-1b61929e6ee3\\tKidney\\tC3N-01200\\r\\nf674a0fe-66bc-4b0f-a12c-e025655f8a64\\tAdenomas and Adenocarcinomas\\tf674a0fe-66bc-4b0f-a12c-e025655f8a64\\tKidney\\tC3N-01214\\r\\n3866385e-13e2-4372-8201-287df9f58e5e\\tAdenomas and Adenocarcinomas\\t3866385e-13e2-4372-8201-287df9f58e5e\\tKidney\\tC3L-00026\\r\\n2219ac15-3505-4a31-bf22-72f17c670f3e\\tAdenomas and Adenocarcinomas\\t2219ac15-3505-4a31-bf22-72f17c670f3e\\tKidney\\tC3N-00177\\r\\n'\n"
     ]
    },
    {
     "ename": "TypeError",
     "evalue": "object of type 'Response' has no len()",
     "output_type": "error",
     "traceback": [
      "\u001b[1;31m---------------------------------------------------------------------------\u001b[0m",
      "\u001b[1;31mTypeError\u001b[0m                                 Traceback (most recent call last)",
      "\u001b[1;32m<ipython-input-2-637da49aef27>\u001b[0m in \u001b[0;36m<module>\u001b[1;34m\u001b[0m\n\u001b[0;32m     35\u001b[0m \u001b[1;33m\u001b[0m\u001b[0m\n\u001b[0;32m     36\u001b[0m \u001b[0mprint\u001b[0m\u001b[1;33m(\u001b[0m\u001b[0mresponse\u001b[0m\u001b[1;33m.\u001b[0m\u001b[0mcontent\u001b[0m\u001b[1;33m)\u001b[0m\u001b[1;33m\u001b[0m\u001b[1;33m\u001b[0m\u001b[0m\n\u001b[1;32m---> 37\u001b[1;33m \u001b[0mlen\u001b[0m\u001b[1;33m(\u001b[0m\u001b[0mresponse\u001b[0m\u001b[1;33m)\u001b[0m\u001b[1;33m\u001b[0m\u001b[1;33m\u001b[0m\u001b[0m\n\u001b[0m",
      "\u001b[1;31mTypeError\u001b[0m: object of type 'Response' has no len()"
     ]
    }
   ],
   "source": [
    "import requests\n",
    "import json\n",
    "\n",
    "fields = [\n",
    "    \"submitter_id\",\n",
    "    \"case_id\",\n",
    "    \"primary_site\",\n",
    "    \"disease_type\",\n",
    "    \"diagnoses.vital_status\"\n",
    "    ]\n",
    "\n",
    "fields = \",\".join(fields)\n",
    "\n",
    "cases_endpt = \"https://api.gdc.cancer.gov/cases\"\n",
    "\n",
    "filters = {\n",
    "    \"op\": \"in\",\n",
    "    \"content\":{\n",
    "        \"field\": \"primary_site\",\n",
    "        \"value\": [\"Kidney\"]\n",
    "        }\n",
    "    }\n",
    "\n",
    "# With a GET request, the filters parameter needs to be converted\n",
    "# from a dictionary to JSON-formatted string\n",
    "\n",
    "params = {\n",
    "    \"filters\": json.dumps(filters),\n",
    "    \"fields\": fields,\n",
    "    \"format\": \"TSV\",\n",
    "    \"size\": \"100\"\n",
    "    }\n",
    "\n",
    "response = requests.get(cases_endpt, params = params)\n",
    "\n",
    "print(response.content)\n"
   ]
  }
 ],
 "metadata": {
  "kernelspec": {
   "display_name": "Python 3",
   "language": "python",
   "name": "python3"
  },
  "language_info": {
   "codemirror_mode": {
    "name": "ipython",
    "version": 3
   },
   "file_extension": ".py",
   "mimetype": "text/x-python",
   "name": "python",
   "nbconvert_exporter": "python",
   "pygments_lexer": "ipython3",
   "version": "3.7.6"
  }
 },
 "nbformat": 4,
 "nbformat_minor": 4
}
